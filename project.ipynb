#帶入套件
import pandas as pd
import numpy as np
import matplotlib.pyplot as plt
import seaborn as sns
from sklearn.datasets import load_iris
from sklearn.model_selection import train_test_split
from sklearn.linear_model import LogisticRegression
from sklearn.preprocessing import LabelEncoder, StandardScaler
from sklearn.datasets import load_iris
from sklearn.metrics import classification_report
from sklearn.metrics import confusion_matrix
from sklearn.metrics import mean_absolute_error, confusion_matrix, classification_report, accuracy_score
import pickle

#讀取CSV文件並顯示資訊
df = pd.read_csv("diabetes_012_health_indicators_BRFSS2021.csv")
df.info()

#顯示數據統計描述
df.describe()

#檢查缺失值
df.isnull().sum()

#將'Diabetes_012'轉換為整數型別
df['Diabetes_012'] = df['Diabetes_012'].astype(int)

#將'Age'轉換為整數型別
df['Age'] = df['Age'].astype(int)

#刪除不需要的列
df.drop("Education", axis=1)
df.drop("Income", axis=1)
df.drop("DiffWalk", axis=1)
df.drop("HvyAlcoholConsump", axis=1)
df.drop("Stroke", axis=1)
df.drop("BMI", axis=1)

#檢查重複行數
df.duplicated().sum()

#刪除重複行
df = df.drop_duplicates()

#再次檢查重複行數
df.duplicated().sum()

#繪製'Diabetes_012'的計數圖
plt.figure(figsize=(10, 5))
sns.countplot(x=df['Diabetes_012'])
plt.title('Diabetes_012 distributed')
plt.show()

# 繪製 'Age' 和 'Diabetes_binary' 的計數圖
plt.figure(figsize=(20, 10))
sns.countplot(x=df['Age'], hue=df['Diabetes_012'])
plt.title('Diabetes_Age_distributed')
plt.show()

# 使用 Plotly 繪製 'HeartDiseaseorAttack' 的直方圖
import plotly.express as px
plt.figure(figsize=(20, 10))
fig = px.histogram(data_frame=df, x="HeartDiseaseorAttack", title="HeartDiseaseorAttack distributed")
fig.update_traces(marker={"color": "blue", "opacity": 0.5, "line": {"width": 4, "color": "black"}})
fig.show()

# 準備特徵和標籤
X = df.drop("Diabetes_012", axis=1)
Y = df["Diabetes_012"]

# 使用imblearn中的RandomOverSampler進行過採樣
from imblearn.over_sampling import RandomOverSampler
X_train, X_test, y_train, y_test = train_test_split(X, Y, test_size=0.3, random_state=42)
ros = RandomOverSampler(random_state=42)
X_resampled, y_resampled = ros.fit_resample(X_train, y_train)

#初始化Logistic Regression模型
Logistic_Regression = LogisticRegression()

#分配過採樣的數據
Logistic_Regression.fit(X_resampled, y_resampled)

#進行預測
Logistic_predictions = Logistic_Regression.predict(X_test)

#計算準確度
Logistic_accuracy = accuracy_score(y_test, Logistic_predictions)
Logistic_accuracy
# 顯示分類報告
print(classification_report(y_test, Logistic_predictions))

# 顯示混淆矩陣
cm = confusion_matrix(y_test, Logistic_predictions)
print(cm)

# 繪製混淆矩陣的熱圖
plt.figure(figsize=(10, 10))
sns.heatmap(cm, annot=True, fmt='d')
plt.xlabel('Predicted')
plt.ylabel('Actual')
plt.title('Confusion Matrix')
plt.show()

# 將模型保存到文件
pickle.dump(Logistic_Regression, open("my_model.pkl", "wb"))

# 從文件中載入模型
model = pickle.load(open("my_model.pkl", "rb"))

# 進行預測
model.predict(X_test.iloc[5:80])
